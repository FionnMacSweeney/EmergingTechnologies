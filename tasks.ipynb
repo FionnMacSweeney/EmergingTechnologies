{
 "cells": [
  {
   "attachments": {},
   "cell_type": "markdown",
   "metadata": {},
   "source": [
    "<h2>Task 1</h2>"
   ]
  },
  {
   "cell_type": "code",
   "execution_count": 3,
   "metadata": {},
   "outputs": [],
   "source": [
    "def collatz_sequence(n):\n",
    "    while n != 1:\n",
    "        if n % 2 == 0:\n",
    "            n = n // 2\n",
    "        else:\n",
    "            n = 3 * n + 1\n",
    "    return True"
   ]
  },
  {
   "attachments": {},
   "cell_type": "markdown",
   "metadata": {},
   "source": [
    "Function to define Collatz sequence logic."
   ]
  },
  {
   "cell_type": "code",
   "execution_count": 4,
   "metadata": {},
   "outputs": [],
   "source": [
    "def verify_collatz_for_first_n_numbers(limit=10000):\n",
    "    for i in range(1, limit + 1):\n",
    "        if not collatz_sequence(i):\n",
    "            return False\n",
    "    return True"
   ]
  },
  {
   "attachments": {},
   "cell_type": "markdown",
   "metadata": {},
   "source": [
    "Function to verify the Collatz conjecture for all positive integers up to 10000"
   ]
  },
  {
   "cell_type": "code",
   "execution_count": 5,
   "metadata": {},
   "outputs": [
    {
     "name": "stdout",
     "output_type": "stream",
     "text": [
      "The Collatz conjecture holds for the first 10,000 positive integers.\n"
     ]
    }
   ],
   "source": [
    "if verify_collatz_for_first_n_numbers():\n",
    "    print(\"The Collatz conjecture holds for the first 10,000 positive integers.\")\n",
    "else:\n",
    "    print(\"The Collatz conjecture does not hold for the first 10,000 positive integers.\")"
   ]
  },
  {
   "attachments": {},
   "cell_type": "markdown",
   "metadata": {},
   "source": [
    "<h2>Task 2</h2>"
   ]
  },
  {
   "cell_type": "code",
   "execution_count": 10,
   "metadata": {},
   "outputs": [
    {
     "name": "stdout",
     "output_type": "stream",
     "text": [
      "Approximate sqrt(25.0): 5.000012953048684\n"
     ]
    }
   ],
   "source": [
    "def sqrt(x):\n",
    "    # Initial guess\n",
    "    z0 = x / 2.0\n",
    "    zi = z0\n",
    "    while True:\n",
    "        # Applying the formula to get the next guess\n",
    "        zi_next = zi - (zi * zi - x) / (2 * zi)\n",
    "        \n",
    "        # If the difference between the guesses is below the threshold, stop\n",
    "        if abs(zi - zi_next) < 0.01:\n",
    "            break\n",
    "        \n",
    "        # Otherwise, continue the iteration with the new guess\n",
    "        zi = zi_next\n",
    "        \n",
    "    return zi\n",
    "\n",
    "# Test the function\n",
    "number = 25.0\n",
    "print(f\"Approximate sqrt({number}): {sqrt(number)}\")\n"
   ]
  },
  {
   "cell_type": "markdown",
   "metadata": {},
   "source": [
    "<h2>Task 3</h2>"
   ]
  },
  {
   "cell_type": "code",
   "execution_count": 4,
   "metadata": {},
   "outputs": [
    {
     "name": "stdout",
     "output_type": "stream",
     "text": [
      "1001011011100010\n"
     ]
    }
   ],
   "source": [
    "import random\n",
    "\n",
    "def random_function():\n",
    "    return ''.join(random.choice('01') for _ in range(16))\n",
    "\n",
    "# Usage:\n",
    "print(random_function())\n"
   ]
  },
  {
   "cell_type": "code",
   "execution_count": 23,
   "metadata": {},
   "outputs": [],
   "source": [
    "import random\n",
    "\n",
    "#generate 16 bit function\n",
    "def select_random_function():\n",
    "    return '{0:016b}'.format(random.randint(0, 2**16 - 1))\n",
    "\n",
    "# firgure out what the function is by calling it\n",
    "def call_function(func, input_val):\n",
    "    \"\"\"Mimics calling the function with a 4-bit input\"\"\"\n",
    "    return int(func[input_val], 2)\n",
    "\n",
    "def identify_function(func):\n",
    "    inputs_tried = set()\n",
    "    while len(inputs_tried) < 16:\n",
    "        input_val = random.randint(0, 15)\n",
    "        inputs_tried.add(input_val)\n",
    "        call_function(func, input_val)\n",
    "    return len(inputs_tried)\n",
    "\n",
    "#determine number of call required (16)\n",
    "random_function = select_random_function()\n",
    "calls_needed = identify_function(random_function)\n",
    "print(calls_needed)  \n",
    "\n"
   ]
  }
 ],
 "metadata": {
  "kernelspec": {
   "display_name": "base",
   "language": "python",
   "name": "python3"
  },
  "language_info": {
   "codemirror_mode": {
    "name": "ipython",
    "version": 3
   },
   "file_extension": ".py",
   "mimetype": "text/x-python",
   "name": "python",
   "nbconvert_exporter": "python",
   "pygments_lexer": "ipython3",
   "version": "3.9.13"
  },
  "orig_nbformat": 4
 },
 "nbformat": 4,
 "nbformat_minor": 2
}
